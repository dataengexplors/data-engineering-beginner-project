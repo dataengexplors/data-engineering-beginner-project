{
 "cells": [
  {
   "cell_type": "markdown",
   "id": "47132db9",
   "metadata": {},
   "source": [
    "## Extract data from API\n",
    "\n",
    "[requests](https://pypi.org/project/requests/): to make requests in an API and retreive data from it, for example.\n",
    "\n",
    "[json](https://docs.python.org/3/library/json.html): handle data in JSON format, creating a data structure (dictionary) with it.\n",
    "\n",
    "[Open-Meteo API](https://open-meteo.com/en/docs): forecasting weather."
   ]
  },
  {
   "cell_type": "code",
   "execution_count": 1,
   "id": "177431a7",
   "metadata": {},
   "outputs": [],
   "source": [
    "import json\n",
    "import requests"
   ]
  },
  {
   "cell_type": "code",
   "execution_count": 2,
   "id": "3e6e9048",
   "metadata": {},
   "outputs": [],
   "source": [
    "def extract():\n",
    "    x = requests.get('https://api.open-meteo.com/v1/forecast?latitude=52.52&longitude=13.41&hourly=temperature_2m')\n",
    "    text = x.text\n",
    "    dictionary = json.loads(text)\n",
    "\n",
    "    return dictionary"
   ]
  },
  {
   "cell_type": "markdown",
   "id": "a4c29817",
   "metadata": {},
   "source": [
    "## Transform data into readable dataframe\n",
    "\n",
    "[pandas](https://pypi.org/project/pandas/): used to handle data (transform, load, etc)."
   ]
  },
  {
   "cell_type": "code",
   "execution_count": 3,
   "id": "b0117d3c",
   "metadata": {},
   "outputs": [],
   "source": [
    "import pandas as pd"
   ]
  },
  {
   "cell_type": "code",
   "execution_count": 4,
   "id": "4b4a8ee1",
   "metadata": {},
   "outputs": [],
   "source": [
    "def transform(raw_data: dict):\n",
    "    df = pd.json_normalize(raw_data)\n",
    "    df = df.explode(['hourly.time', 'hourly.temperature_2m'])\n",
    "\n",
    "    return df"
   ]
  },
  {
   "cell_type": "markdown",
   "id": "20f90637",
   "metadata": {},
   "source": [
    "## Load data into S3\n",
    "\n",
    "[boto3](https://aws.amazon.com/sdk-for-python/?nc1=h_ls): SDK library for AWS, allows to create [session](https://boto3.amazonaws.com/v1/documentation/api/latest/reference/core/session.html) that allows the code to use/create services. \n",
    "\n",
    "[awswrangler](https://pypi.org/project/awswrangler/): basically pandas in AWS, allows to write dataframes into S3 buckets.\n",
    "\n",
    "[datetime](https://docs.python.org/3/library/datetime.html): gets now date.\n",
    "\n",
    "[dotenv](https://pypi.org/project/python-dotenv/): handles env variables by refering the env file.\n",
    "\n",
    "[os](https://docs.python.org/3/library/os.html): operating system interface, in this case necessary to retrieve env variables values."
   ]
  },
  {
   "cell_type": "code",
   "execution_count": 5,
   "id": "76e8d05d",
   "metadata": {},
   "outputs": [],
   "source": [
    "import boto3\n",
    "import awswrangler as wr\n",
    "from datetime import datetime\n",
    "\n",
    "import os\n",
    "from dotenv import load_dotenv"
   ]
  },
  {
   "cell_type": "code",
   "execution_count": 6,
   "id": "7336fc95",
   "metadata": {},
   "outputs": [],
   "source": [
    "def load(transformed_data: pd.DataFrame):\n",
    "    \"\"\"\n",
    "    Load task\n",
    "    \"\"\"\n",
    "    load_dotenv('../.env')\n",
    "    now = datetime.now()\n",
    "\n",
    "    year = now.strftime(\"%Y\")\n",
    "    month = now.strftime(\"%m\")\n",
    "    day = now.strftime(\"%d\")\n",
    "    time = now.strftime(\"%H:%M:%S\")\n",
    "\n",
    "    session = boto3.Session(\n",
    "        aws_access_key_id=os.getenv('AWS_ACCESS_KEY_ID'), # AWS Secret Manager\n",
    "        aws_secret_access_key=os.getenv('AWS_SECRET_ACCESS_KEY'),\n",
    "        region_name=\"us-east-2\"\n",
    "    )\n",
    "\n",
    "    wr.s3.to_parquet(\n",
    "        df=transformed_data,\n",
    "        path='s3://dee-tutorial/open-meteo/' + year + '/' + month + '/' + day + '/' + time + '.parquet',\n",
    "        boto3_session=session,\n",
    "    )\n"
   ]
  },
  {
   "cell_type": "markdown",
   "id": "32920e55",
   "metadata": {},
   "source": [
    "## Execute ETL"
   ]
  },
  {
   "cell_type": "code",
   "execution_count": 7,
   "id": "92fe5f53",
   "metadata": {},
   "outputs": [],
   "source": [
    "raw_data = extract()\n",
    "transformed_data = transform(raw_data)\n",
    "load(transformed_data)"
   ]
  },
  {
   "cell_type": "markdown",
   "id": "ee4b9710",
   "metadata": {},
   "source": [
    "ETL -> dag inside airflow"
   ]
  }
 ],
 "metadata": {
  "kernelspec": {
   "display_name": "Python 3 (ipykernel)",
   "language": "python",
   "name": "python3"
  },
  "language_info": {
   "codemirror_mode": {
    "name": "ipython",
    "version": 3
   },
   "file_extension": ".py",
   "mimetype": "text/x-python",
   "name": "python",
   "nbconvert_exporter": "python",
   "pygments_lexer": "ipython3",
   "version": "3.9.5"
  }
 },
 "nbformat": 4,
 "nbformat_minor": 5
}
